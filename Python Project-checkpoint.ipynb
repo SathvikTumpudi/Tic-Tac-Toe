{
 "cells": [
  {
   "cell_type": "code",
   "execution_count": 2,
   "id": "5a1f27ed",
   "metadata": {},
   "outputs": [
    {
     "ename": "IndentationError",
     "evalue": "unexpected indent (<ipython-input-2-1ab2818d7125>, line 32)",
     "output_type": "error",
     "traceback": [
      "\u001b[1;36m  File \u001b[1;32m\"<ipython-input-2-1ab2818d7125>\"\u001b[1;36m, line \u001b[1;32m32\u001b[0m\n\u001b[1;33m    def playerinput():\u001b[0m\n\u001b[1;37m    ^\u001b[0m\n\u001b[1;31mIndentationError\u001b[0m\u001b[1;31m:\u001b[0m unexpected indent\n"
     ]
    }
   ],
   "source": [
    "#Python Project\n",
    "\n",
    "num_list = [1, 2, 3, 4, 5, 6, 7, 8, 9]\n",
    "counter1 = 1\n",
    "\n",
    "\n",
    "def check_win(num_list):\n",
    "  winningcombosofplayer1 = (num_list[0] == \"X\" and num_list[1] == \"X\" and num_list[2] == \"X\") or (num_list[0] == \"X\" and num_list[3] == \"X\" and num_list[6] == \"X\") or (num_list[0] == \"X\" and num_list[4] == \"X\" and num_list[8] == \"X\") or (num_list[1] == \"X\" and num_list[4] == \"X\" and num_list[7] == \"X\") or (num_list[2] == \"X\" and num_list[5] == \"X\" and num_list[8] == \"X\") or (num_list[2] == \"X\" and num_list[4] == \"X\" and num_list[6] == \"X\")\n",
    "  return winningcombosofplayer1\n",
    "\n",
    "\n",
    "def check_win2(num_list):\n",
    "  winningcombosofplayer2 = (num_list[0] == \"O\" and num_list[1] == \"O\" and num_list[2] == \"O\") or (num_list[0] == \"O\" and num_list[3] == \"O\" and num_list[6] == \"O\") or (num_list[0] == \"O\" and num_list[4] == \"O\" and num_list[8] == \"O\") or (num_list[1] == \"O\" and num_list[4] == \"O\" and num_list[7] == \"O\") or (num_list[2] == \"O\" and num_list[5] == \"O\" and num_list[8] == \"O\") or (num_list[2] == \"O\" and num_list[4] == \"O\" and num_list[6] == \"O\")\n",
    "  return winningcombosofplayer2\n",
    "\n",
    "\n",
    "def printboard():\n",
    "  print(\"  \", num_list[0], \"|\", num_list[1], \"|\", num_list[2])\n",
    "  print(\" ---+----+---\")\n",
    "  print(\"  \", num_list[3], \"|\", num_list[4], \"|\", num_list[5])\n",
    "  print(\" ----+---+---\")\n",
    "  print(\"  \", num_list[6], \"|\", num_list[7], \"|\", num_list[8])\n",
    "\n",
    "\n",
    "print(\"Enter the number of your choice\")\n",
    "print(\"1. Tic-Tac-Toe Game with 2 people\")\n",
    "print(\"2. Tic-Tac-Toe Game against a robot\")\n",
    "choice = input(\"Enter your choice\")\n",
    "if choice in ('1', '2'): \n",
    "  if choice == '1':\n",
    "\n",
    "    def playerinput():\n",
    "      counter = 1\n",
    "      check_win_boolean = check_win(num_list)\n",
    "      check_win_boolean2 = check_win2(num_list)\n",
    "      while counter < 5:\n",
    "        print(\"Player 1, this is your symbol: X\")\n",
    "        player1symbol = \"X\"\n",
    "        player2symbol = \"O\"\n",
    "        player1input = int(input(\"Player 1, Please enter the number that corresponds to the  box you have chosen\"))\n",
    "        typeofnumlist=type(num_list[player1input-1])\n",
    "        typeofsymbol=type(player1symbol)\n",
    "        if typeofnumlist == typeofsymbol:\n",
    "          print(\"You can't change that value\")\n",
    "          continue\n",
    "        num_list[player1input - 1] = player1symbol\n",
    "        printboard()\n",
    "        check_win_boolean = check_win(num_list)\n",
    "        if check_win_boolean == True:\n",
    "          print(\"Congratulation Player 1, you won!!\")\n",
    "          counter += 10000000\n",
    "          break\n",
    "        if counter > 6:\n",
    "          break\n",
    "        print(\"Player 2, this is your symbol: O\")\n",
    "        player2input = int(input(\"Player 2, Please enter the number that corresponds to the  box you have chosen\"))\n",
    "        num_list[player2input - 1] = player2symbol\n",
    "        counter += 1\n",
    "        printboard()\n",
    "        check_win_boolean2 = check_win2(num_list)\n",
    "        if check_win_boolean2 == True:\n",
    "          print(\"Congratulation Player 2, you won!!\")\n",
    "          break\n",
    "          counter += 10000000\n",
    "        print(counter)\n",
    "      if check_win_boolean == False and check_win_boolean2 == False:\n",
    "        print(check_win_boolean)\n",
    "        print(check_win_boolean2)\n",
    "        print(\"Good job both players, you have reached stalemate\")\n",
    "\n",
    "    if counter1 == 1:\n",
    "      printboard()\n",
    "      playerinput()\n",
    "      counter1 += 1\n"
   ]
  }
 ],
 "metadata": {
  "kernelspec": {
   "display_name": "Python 3",
   "language": "python",
   "name": "python3"
  },
  "language_info": {
   "codemirror_mode": {
    "name": "ipython",
    "version": 3
   },
   "file_extension": ".py",
   "mimetype": "text/x-python",
   "name": "python",
   "nbconvert_exporter": "python",
   "pygments_lexer": "ipython3",
   "version": "3.8.8"
  }
 },
 "nbformat": 4,
 "nbformat_minor": 5
}
